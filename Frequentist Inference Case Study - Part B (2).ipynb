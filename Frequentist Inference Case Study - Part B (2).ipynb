{
 "cells": [
  {
   "cell_type": "markdown",
   "metadata": {},
   "source": [
    "# Frequentist Inference Case Study - Part B"
   ]
  },
  {
   "cell_type": "markdown",
   "metadata": {},
   "source": [
    "## Learning objectives"
   ]
  },
  {
   "cell_type": "markdown",
   "metadata": {},
   "source": [
    "Welcome to Part B of the Frequentist inference case study! The purpose of this case study is to help you apply the concepts associated with Frequentist inference in Python. In particular, you'll practice writing Python code to apply the following statistical concepts: \n",
    "* the _z_-statistic\n",
    "* the _t_-statistic\n",
    "* the difference and relationship between the two\n",
    "* the Central Limit Theorem, including its assumptions and consequences\n",
    "* how to estimate the population mean and standard deviation from a sample\n",
    "* the concept of a sampling distribution of a test statistic, particularly for the mean\n",
    "* how to combine these concepts to calculate a confidence interval"
   ]
  },
  {
   "cell_type": "markdown",
   "metadata": {},
   "source": [
    "In the previous notebook, we used only data from a known normal distribution. **You'll now tackle real data, rather than simulated data, and answer some relevant real-world business problems using the data.**"
   ]
  },
  {
   "cell_type": "markdown",
   "metadata": {},
   "source": [
    "## Hospital medical charges"
   ]
  },
  {
   "cell_type": "markdown",
   "metadata": {},
   "source": [
    "Imagine that a hospital has hired you as their data scientist. An administrator is working on the hospital's business operations plan and needs you to help them answer some business questions. \n",
    "\n",
    "In this assignment notebook, you're going to use frequentist statistical inference on a data sample to answer the questions:\n",
    "* has the hospital's revenue stream fallen below a key threshold?\n",
    "* are patients with insurance really charged different amounts than those without?\n",
    "\n",
    "Answering that last question with a frequentist approach makes some assumptions, and requires some knowledge, about the two groups."
   ]
  },
  {
   "cell_type": "markdown",
   "metadata": {},
   "source": [
    "We are going to use some data on medical charges obtained from [Kaggle](https://www.kaggle.com/easonlai/sample-insurance-claim-prediction-dataset). \n",
    "\n",
    "For the purposes of this exercise, assume the observations are the result of random sampling from our single hospital. Recall that in the previous assignment, we introduced the Central Limit Theorem (CLT), and its consequence that the distributions of sample statistics approach a normal distribution as $n$ increases. The amazing thing about this is that it applies to the sampling distributions of statistics that have been calculated from even highly non-normal distributions of data! Recall, also, that hypothesis testing is very much based on making inferences about such sample statistics. You're going to rely heavily on the CLT to apply frequentist (parametric) tests to answer the questions in this notebook."
   ]
  },
  {
   "cell_type": "code",
   "execution_count": 138,
   "metadata": {
    "ExecuteTime": {
     "end_time": "2023-12-23T00:37:30.465553Z",
     "start_time": "2023-12-23T00:37:30.443622Z"
    }
   },
   "outputs": [],
   "source": [
    "import pandas as pd\n",
    "import numpy as np\n",
    "import matplotlib.pyplot as plt\n",
    "from scipy.stats import t\n",
    "from numpy.random import seed\n",
    "from scipy.stats import norm\n",
    "medical = pd.read_csv('insurance2.csv')"
   ]
  },
  {
   "cell_type": "code",
   "execution_count": 139,
   "metadata": {
    "ExecuteTime": {
     "end_time": "2023-12-23T00:37:30.478670Z",
     "start_time": "2023-12-23T00:37:30.469850Z"
    }
   },
   "outputs": [
    {
     "data": {
      "text/plain": "(1338, 8)"
     },
     "execution_count": 139,
     "metadata": {},
     "output_type": "execute_result"
    }
   ],
   "source": [
    "medical.shape"
   ]
  },
  {
   "cell_type": "code",
   "execution_count": 140,
   "metadata": {
    "ExecuteTime": {
     "end_time": "2023-12-23T00:37:30.482033Z",
     "start_time": "2023-12-23T00:37:30.477005Z"
    }
   },
   "outputs": [
    {
     "data": {
      "text/plain": "   age  sex     bmi  children  smoker  region      charges  insuranceclaim\n0   19    0  27.900         0       1       3  16884.92400               1\n1   18    1  33.770         1       0       2   1725.55230               1\n2   28    1  33.000         3       0       2   4449.46200               0\n3   33    1  22.705         0       0       1  21984.47061               0\n4   32    1  28.880         0       0       1   3866.85520               1",
      "text/html": "<div>\n<style scoped>\n    .dataframe tbody tr th:only-of-type {\n        vertical-align: middle;\n    }\n\n    .dataframe tbody tr th {\n        vertical-align: top;\n    }\n\n    .dataframe thead th {\n        text-align: right;\n    }\n</style>\n<table border=\"1\" class=\"dataframe\">\n  <thead>\n    <tr style=\"text-align: right;\">\n      <th></th>\n      <th>age</th>\n      <th>sex</th>\n      <th>bmi</th>\n      <th>children</th>\n      <th>smoker</th>\n      <th>region</th>\n      <th>charges</th>\n      <th>insuranceclaim</th>\n    </tr>\n  </thead>\n  <tbody>\n    <tr>\n      <th>0</th>\n      <td>19</td>\n      <td>0</td>\n      <td>27.900</td>\n      <td>0</td>\n      <td>1</td>\n      <td>3</td>\n      <td>16884.92400</td>\n      <td>1</td>\n    </tr>\n    <tr>\n      <th>1</th>\n      <td>18</td>\n      <td>1</td>\n      <td>33.770</td>\n      <td>1</td>\n      <td>0</td>\n      <td>2</td>\n      <td>1725.55230</td>\n      <td>1</td>\n    </tr>\n    <tr>\n      <th>2</th>\n      <td>28</td>\n      <td>1</td>\n      <td>33.000</td>\n      <td>3</td>\n      <td>0</td>\n      <td>2</td>\n      <td>4449.46200</td>\n      <td>0</td>\n    </tr>\n    <tr>\n      <th>3</th>\n      <td>33</td>\n      <td>1</td>\n      <td>22.705</td>\n      <td>0</td>\n      <td>0</td>\n      <td>1</td>\n      <td>21984.47061</td>\n      <td>0</td>\n    </tr>\n    <tr>\n      <th>4</th>\n      <td>32</td>\n      <td>1</td>\n      <td>28.880</td>\n      <td>0</td>\n      <td>0</td>\n      <td>1</td>\n      <td>3866.85520</td>\n      <td>1</td>\n    </tr>\n  </tbody>\n</table>\n</div>"
     },
     "execution_count": 140,
     "metadata": {},
     "output_type": "execute_result"
    }
   ],
   "source": [
    "medical.head()"
   ]
  },
  {
   "cell_type": "markdown",
   "metadata": {},
   "source": [
    "__Q1:__ Plot the histogram of charges and calculate the mean and standard deviation. Comment on the appropriateness of these statistics for the data."
   ]
  },
  {
   "cell_type": "markdown",
   "metadata": {},
   "source": [
    "__A:__ The data is not normally distributed; therefore, the mean and standard deviation might not be the appropriate statistics to use.  Or resample to get a normal distribution per CLT."
   ]
  },
  {
   "cell_type": "code",
   "execution_count": 141,
   "metadata": {
    "ExecuteTime": {
     "end_time": "2023-12-23T00:37:30.549239Z",
     "start_time": "2023-12-23T00:37:30.484207Z"
    }
   },
   "outputs": [
    {
     "data": {
      "text/plain": "<Figure size 640x480 with 1 Axes>",
      "image/png": "[encoded data removed]"
     },
     "metadata": {},
     "output_type": "display_data"
    }
   ],
   "source": [
    "_ = plt.hist(medical['charges'], bins=10)\n",
    "plt.show()"
   ]
  },
  {
   "cell_type": "code",
   "execution_count": 142,
   "metadata": {
    "ExecuteTime": {
     "end_time": "2023-12-23T00:37:30.562635Z",
     "start_time": "2023-12-23T00:37:30.552086Z"
    }
   },
   "outputs": [
    {
     "name": "stdout",
     "output_type": "stream",
     "text": [
      "13270.422265141257 12105.484975561605\n"
     ]
    }
   ],
   "source": [
    "charges_mean = np.mean(medical['charges'])\n",
    "charges_std = np.std(medical['charges'])\n",
    "print(charges_mean, charges_std)"
   ]
  },
  {
   "cell_type": "markdown",
   "metadata": {},
   "source": [
    "__Q2:__ The administrator is concerned that the actual average charge has fallen below 12,000, threatening the hospital's operational model. On the assumption that these data represent a random sample of charges, how would you justify that these data allow you to answer that question? And what would be the most appropriate frequentist test, of the ones discussed so far, to apply?"
   ]
  },
  {
   "cell_type": "markdown",
   "metadata": {},
   "source": [
    "__A:__ Take random samples of the random sample making the data be normally distributed.  Once the data is in Gaussian form, conduct hypothesis testing using a confidence level of 95%.  Then compare the observation (12,000) to what the mean, standard deviation, and confidence interval is."
   ]
  },
  {
   "cell_type": "markdown",
   "metadata": {},
   "source": [
    "__Q3:__ Given the nature of the administrator's concern, what is the appropriate confidence interval in this case? A ***one-sided*** or ***two-sided*** interval? (Refresh your understanding of this concept on p. 399 of the *AoS*). Calculate the critical value and the relevant 95% confidence interval for the mean, and comment on whether the administrator should be concerned."
   ]
  },
  {
   "cell_type": "markdown",
   "metadata": {},
   "source": [
    "__A:__ In this case, I believe a one-sided interval is most appropriate for this case. The 95% confidence interval of the mean using the t-distribution is: 13267.786908932509. Additionally, the observation of 12,000 is more than 10 standard deviations away.  Very unlikely."
   ]
  },
  {
   "cell_type": "code",
   "execution_count": 143,
   "metadata": {
    "ExecuteTime": {
     "end_time": "2023-12-23T00:37:30.562909Z",
     "start_time": "2023-12-23T00:37:30.556634Z"
    }
   },
   "outputs": [],
   "source": [
    "def charges_sampler(n):\n",
    "    return np.random.choice(medical['charges'], n)\n",
    "\n",
    "def charges_sampling(n):\n",
    "    sampling_means = np.zeros(n)\n",
    "    for i in range(n):\n",
    "        sample = charges_sampler(n)\n",
    "        sample_mean = np.mean(sample)\n",
    "        sampling_means[i] = sample_mean\n",
    "\n",
    "    return sampling_means"
   ]
  },
  {
   "cell_type": "code",
   "execution_count": 144,
   "metadata": {
    "ExecuteTime": {
     "end_time": "2023-12-23T00:37:32.161675Z",
     "start_time": "2023-12-23T00:37:30.561222Z"
    }
   },
   "outputs": [
    {
     "data": {
      "text/plain": "<Figure size 640x480 with 1 Axes>",
      "image/png": "[encoded data removed]"
     },
     "metadata": {},
     "output_type": "display_data"
    }
   ],
   "source": [
    "n=10000\n",
    "resample_data = charges_sampling(n)\n",
    "_ = plt.hist(resample_data, bins=10)\n",
    "plt.show()\n",
    "resamp_mean = np.mean(resample_data)\n",
    "resamp_std = np.std(resample_data)"
   ]
  },
  {
   "cell_type": "code",
   "execution_count": 145,
   "metadata": {
    "ExecuteTime": {
     "end_time": "2023-12-23T00:37:32.166411Z",
     "start_time": "2023-12-23T00:37:32.161188Z"
    }
   },
   "outputs": [
    {
     "name": "stdout",
     "output_type": "stream",
     "text": [
      "-1270.2653086375376\n",
      "122.12694908644323\n",
      "-10.401187601423052\n",
      "The 95% confidence interval of the mean using the t-distribution is: 13268.256312956766\n"
     ]
    }
   ],
   "source": [
    "import scipy.stats as stats\n",
    "obs = 12000\n",
    "diff = obs - resamp_mean\n",
    "print(diff)\n",
    "print(resamp_std)\n",
    "std_away_from_mean = diff/resamp_std\n",
    "print(std_away_from_mean)\n",
    "norm.cdf(std_away_from_mean)\n",
    "\n",
    "# $12,000 is 10 standard deviations away from the mean! No need to worry\n",
    "confidence_level = 0.95\n",
    "deg_freedom = n - 1\n",
    "t_value = stats.t.ppf((confidence_level), df=deg_freedom)\n",
    "margin_of_error = t_value * (resamp_std / np.sqrt(n))\n",
    "\n",
    "confidence_interval = (resamp_mean - margin_of_error)\n",
    "print(f\"The 95% confidence interval of the mean using the t-distribution is: {confidence_interval}\")"
   ]
  },
  {
   "cell_type": "markdown",
   "metadata": {},
   "source": [
    "The administrator then wants to know whether people with insurance really are charged a different amount to those without.\n",
    "\n",
    "__Q4:__ State the null and alternative hypothesis here. \n",
    "\n",
    "Null Hypothesis: There is no significant difference between the means of the two groups; with_ins_mean = without_ins_mean.\n",
    "Alternative Hypothesis: insurance_mean does not equal without_ins_mean\n",
    "\n",
    "Use the _t_-test for the difference between means, where the pooled standard deviation of the two groups is given by:\n",
    "\\begin{equation}\n",
    "s_p = \\sqrt{\\frac{(n_0 - 1)s^2_0 + (n_1 - 1)s^2_1}{n_0 + n_1 - 2}}\n",
    "\\end{equation}\n",
    "\n",
    "and the *t*-test statistic is then given by:\n",
    "\n",
    "\\begin{equation}\n",
    "t = \\frac{\\bar{x}_0 - \\bar{x}_1}{s_p \\sqrt{1/n_0 + 1/n_1}}.\n",
    "\\end{equation}\n",
    "\n",
    "(If you need some reminding of the general definition of ***t-statistic***, check out the definition on p. 404 of *AoS*). \n",
    "\n",
    "What assumption about the variances of the two groups are we making here?\n",
    "We are assuming homogeneity of variances (both population variations are equal)."
   ]
  },
  {
   "cell_type": "markdown",
   "metadata": {},
   "source": [
    "__A:__"
   ]
  },
  {
   "cell_type": "markdown",
   "metadata": {},
   "source": [
    "__Q5:__ Perform this hypothesis test both manually, using the above formulae, and then using the appropriate function from [scipy.stats](https://docs.scipy.org/doc/scipy/reference/stats.html#statistical-tests) (hint, you're looking for a function to perform a _t_-test on two independent samples). For the manual approach, calculate the value of the test statistic and then its probability (the p-value). Verify you get the same results from both."
   ]
  },
  {
   "cell_type": "markdown",
   "metadata": {},
   "source": [
    "__A:__ "
   ]
  },
  {
   "cell_type": "code",
   "execution_count": 146,
   "metadata": {
    "ExecuteTime": {
     "end_time": "2023-12-23T00:37:32.171336Z",
     "start_time": "2023-12-23T00:37:32.163929Z"
    }
   },
   "outputs": [
    {
     "name": "stdout",
     "output_type": "stream",
     "text": [
      "0       16884.92400\n",
      "1        1725.55230\n",
      "4        3866.85520\n",
      "6        8240.58960\n",
      "10       2721.32080\n",
      "           ...     \n",
      "1330    12629.16560\n",
      "1331    10795.93733\n",
      "1334     2205.98080\n",
      "1335     1629.83350\n",
      "1337    29141.36030\n",
      "Name: with_ins, Length: 783, dtype: float64\n",
      "2        4449.46200\n",
      "3       21984.47061\n",
      "5        3756.62160\n",
      "7        7281.50560\n",
      "8        6406.41070\n",
      "           ...     \n",
      "1324     4239.89265\n",
      "1328    22395.74424\n",
      "1332    11411.68500\n",
      "1333    10600.54830\n",
      "1336     2007.94500\n",
      "Name: without_ins, Length: 555, dtype: float64\n"
     ]
    }
   ],
   "source": [
    "medical['with_ins'] = medical['charges'] * medical['insuranceclaim']\n",
    "medical['without_ins'] = medical['charges'] * (1-medical['insuranceclaim'])\n",
    "\n",
    "\n",
    "df = medical[(medical['with_ins']!= 0)]\n",
    "print(df['with_ins'])\n",
    "df1 = medical[(medical['without_ins']!= 0)]\n",
    "print(df1['without_ins'])"
   ]
  },
  {
   "cell_type": "code",
   "execution_count": 147,
   "metadata": {
    "ExecuteTime": {
     "end_time": "2023-12-23T00:37:32.238198Z",
     "start_time": "2023-12-23T00:37:32.171270Z"
    }
   },
   "outputs": [
    {
     "data": {
      "text/plain": "<Figure size 640x480 with 1 Axes>",
      "image/png": "[encoded data removed]"
     },
     "metadata": {},
     "output_type": "display_data"
    }
   ],
   "source": [
    "_=plt.hist(df['with_ins'], bins=10)\n",
    "_=plt.hist(df1['without_ins'], bins=10)\n",
    "plt.show()"
   ]
  },
  {
   "cell_type": "code",
   "execution_count": 148,
   "metadata": {
    "ExecuteTime": {
     "end_time": "2023-12-23T00:37:32.245162Z",
     "start_time": "2023-12-23T00:37:32.240764Z"
    }
   },
   "outputs": [],
   "source": [
    "\n",
    "def with_sampler(n):\n",
    "    return np.random.choice(df['with_ins'], n)\n",
    "\n",
    "def with_sampling(n):\n",
    "    sampling_means = np.zeros(n)\n",
    "    for i in range(n):\n",
    "        sample = with_sampler(n)\n",
    "        sample_mean = np.mean(sample)\n",
    "        sampling_means[i] = sample_mean\n",
    "\n",
    "    return sampling_means\n",
    "\n",
    "def without_sampler(n):\n",
    "    return np.random.choice(df1['without_ins'], n)\n",
    "\n",
    "\n",
    "def without_sampling(n):\n",
    "    sampling_means = np.zeros(n)\n",
    "    for i in range(n):\n",
    "        sample = without_sampler(n)\n",
    "        sample_mean = np.mean(sample)\n",
    "        sampling_means[i] = sample_mean\n",
    "\n",
    "    return sampling_means"
   ]
  },
  {
   "cell_type": "code",
   "execution_count": 149,
   "metadata": {
    "ExecuteTime": {
     "end_time": "2023-12-23T00:37:41.282372Z",
     "start_time": "2023-12-23T00:37:32.244347Z"
    }
   },
   "outputs": [
    {
     "data": {
      "text/plain": "<Figure size 640x480 with 1 Axes>",
      "image/png": "[encoded data removed]"
     },
     "metadata": {},
     "output_type": "display_data"
    },
    {
     "name": "stdout",
     "output_type": "stream",
     "text": [
      "16424.672381833294\n",
      "8821.464984916713\n"
     ]
    },
    {
     "data": {
      "text/plain": "<Figure size 640x480 with 1 Axes>",
      "image/png": "[encoded data removed]"
     },
     "metadata": {},
     "output_type": "display_data"
    }
   ],
   "source": [
    "n=10000\n",
    "with_ins_mean = np.mean(with_sampling(n))\n",
    "without_ins_mean = np.mean(without_sampling(n))\n",
    "with_ins_std = np.std(with_sampling(n))\n",
    "without_ins_std = np.std(without_sampling(n))\n",
    "_=plt.hist(with_sampling(n), bins=10)\n",
    "plt.show()\n",
    "_=plt.hist(without_sampling(n), bins=10)\n",
    "\n",
    "print(with_ins_mean)\n",
    "print(without_ins_mean)"
   ]
  },
  {
   "cell_type": "code",
   "execution_count": 150,
   "outputs": [
    {
     "name": "stdout",
     "output_type": "stream",
     "text": [
      "783 555\n",
      "1189.8633253820165\n",
      "t-statistic: 14.778595791717247\n",
      "p-value: 1.4399405371216593e-47\n"
     ]
    }
   ],
   "source": [
    "n0 = len(df['with_ins'])\n",
    "n1 = len(df1['without_ins'])\n",
    "print(n0, n1)\n",
    "s0 = with_ins_std\n",
    "s1= without_ins_std\n",
    "first = (n0-1)*s0**2\n",
    "second= (n1-1)*s1**2\n",
    "third = (n0 +n1 -2)\n",
    "sp = np.sqrt((first + second) / third)\n",
    "\n",
    "t_stat_man = (with_ins_mean - without_ins_mean) / (sp*np.sqrt(1/n0 + 1/n1))\n",
    "print(t_stat_man)\n",
    "\n",
    "t_stat, p_value = stats.ttest_ind(medical['with_ins'], medical['without_ins'])\n",
    "print(\"t-statistic:\", t_stat)\n",
    "print(\"p-value:\", p_value)"
   ],
   "metadata": {
    "collapsed": false,
    "ExecuteTime": {
     "end_time": "2023-12-23T00:37:41.286754Z",
     "start_time": "2023-12-23T00:37:41.283587Z"
    }
   }
  },
  {
   "cell_type": "markdown",
   "metadata": {},
   "source": [
    "Congratulations! Hopefully you got the exact same numerical results. This shows that you correctly calculated the numbers by hand. Secondly, you used the correct function and saw that it's much easier to use. All you need to do is pass your data to it.\n",
    "\n",
    "I did not get the same answer, unfortunately.  I think it is because my n0 and n1 values are incorrect. Should n0 and n1 be from the original distribution or from the resampling where I took 10000 entries?\n",
    "\n",
    "Using the scipy ttest, t > p; therefore, the evidence suggests to reject the null hypothesis ie The means of with insurance and without insurance are not equal."
   ]
  },
  {
   "cell_type": "markdown",
   "metadata": {},
   "source": [
    "__Q6:__ Conceptual question: look through the documentation for statistical test functions in scipy.stats. You'll see the above _t_-test for a sample, but can you see an equivalent one for performing a *z*-test from a sample? Comment on your answer."
   ]
  },
  {
   "cell_type": "markdown",
   "metadata": {},
   "source": [
    "__A:__ No, there is not a z-test. Because for the z-test, you need the population parameters. However, if you know those parameters, you can calculate the z-statistic using the cumulative distribution function in scipy."
   ]
  },
  {
   "cell_type": "code",
   "execution_count": 151,
   "outputs": [],
   "source": [
    "stats?\n",
    "\n"
   ],
   "metadata": {
    "collapsed": false,
    "ExecuteTime": {
     "end_time": "2023-12-23T00:37:41.294901Z",
     "start_time": "2023-12-23T00:37:41.287625Z"
    }
   }
  },
  {
   "cell_type": "markdown",
   "metadata": {},
   "source": [
    "## Learning outcomes"
   ]
  },
  {
   "cell_type": "markdown",
   "metadata": {},
   "source": [
    "Having completed this project notebook, you now have good hands-on experience:\n",
    "* using the central limit theorem to help you apply frequentist techniques to answer questions that pertain to very non-normally distributed data from the real world\n",
    "* performing inference using such data to answer business questions\n",
    "* forming a hypothesis and framing the null and alternative hypotheses\n",
    "* testing this using a _t_-test"
   ]
  },
  {
   "cell_type": "code",
   "execution_count": 151,
   "outputs": [],
   "source": [],
   "metadata": {
    "collapsed": false,
    "ExecuteTime": {
     "end_time": "2023-12-23T00:37:41.295352Z",
     "start_time": "2023-12-23T00:37:41.290646Z"
    }
   }
  }
 ],
 "metadata": {
  "kernelspec": {
   "display_name": "Python 3",
   "language": "python",
   "name": "python3"
  },
  "language_info": {
   "codemirror_mode": {
    "name": "ipython",
    "version": 3
   },
   "file_extension": ".py",
   "mimetype": "text/x-python",
   "name": "python",
   "nbconvert_exporter": "python",
   "pygments_lexer": "ipython3",
   "version": "3.7.3"
  }
 },
 "nbformat": 4,
 "nbformat_minor": 2
}
